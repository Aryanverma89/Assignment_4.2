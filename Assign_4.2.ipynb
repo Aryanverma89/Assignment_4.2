{
 "cells": [
  {
   "cell_type": "markdown",
   "id": "6ccf5554-d1d2-4f32-972f-beb41cde5207",
   "metadata": {},
   "source": [
    "Q1. What is Abstraction in OOps? Explain with an example."
   ]
  },
  {
   "cell_type": "code",
   "execution_count": 3,
   "id": "3ab8a093-c50d-4b3b-82aa-eca471e9a8e7",
   "metadata": {},
   "outputs": [
    {
     "data": {
      "text/plain": [
       "' Abstraction in OOps is the process of hiding the internal details of an application from the outer world.\\nAbstraction is used to describe things in simple terms.\\nIt’s used to create a boundary between the application and the client programs.\\n A method becomes abstract when decorated with the keyword @abstractmethod.'"
      ]
     },
     "execution_count": 3,
     "metadata": {},
     "output_type": "execute_result"
    }
   ],
   "source": [
    "\"\"\" Abstraction in OOps is the process of hiding the internal details of an application from the outer world.\n",
    "Abstraction is used to describe things in simple terms.\n",
    "It’s used to create a boundary between the application and the client programs.\n",
    " A method becomes abstract when decorated with the keyword @abstractmethod.\"\"\""
   ]
  },
  {
   "cell_type": "code",
   "execution_count": 5,
   "id": "911b2a7a-979e-4948-a42e-95214e2a3e99",
   "metadata": {},
   "outputs": [],
   "source": [
    "#Example of Abstraction \n",
    "import abc \n",
    "class students():\n",
    "    @abc.abstractclassmethod\n",
    "    def name(self):\n",
    "        pass\n",
    "    @abc.abstractclassmethod\n",
    "    def course(self):\n",
    "        pass\n",
    "    @abc.abstractclassmethod\n",
    "    def assignment(self):\n",
    "        pass\n",
    "    @abc.abstractclassmethod\n",
    "    def marks(self):\n",
    "        pass"
   ]
  },
  {
   "cell_type": "code",
   "execution_count": 6,
   "id": "b851ea87-d93f-49b9-84dd-0c2b716848c7",
   "metadata": {},
   "outputs": [],
   "source": [
    "class student1(students):\n",
    "    def name(self):\n",
    "        return \"Aryan\"\n",
    "    def course(self):\n",
    "        return \"DATA SCIENCE\"\n",
    "    "
   ]
  },
  {
   "cell_type": "code",
   "execution_count": 7,
   "id": "6076ca9f-cd5d-4316-b0b9-42dbce66afb0",
   "metadata": {},
   "outputs": [],
   "source": [
    "class student2(students):\n",
    "    def name(self):\n",
    "        return \"Aryan\"\n",
    "    def marks(self):\n",
    "        return \"this is my marks \"\n",
    "    def assignment(self):\n",
    "        return 12"
   ]
  },
  {
   "cell_type": "code",
   "execution_count": 9,
   "id": "6a58bfd3-435d-4b38-b851-605f430a9865",
   "metadata": {},
   "outputs": [],
   "source": [
    "s=student1()"
   ]
  },
  {
   "cell_type": "code",
   "execution_count": 11,
   "id": "82749eb8-06c2-42a1-ae46-a1ab8ce87757",
   "metadata": {},
   "outputs": [
    {
     "data": {
      "text/plain": [
       "'Aryan'"
      ]
     },
     "execution_count": 11,
     "metadata": {},
     "output_type": "execute_result"
    }
   ],
   "source": [
    "s.name()"
   ]
  },
  {
   "cell_type": "code",
   "execution_count": 12,
   "id": "6a702c46-882a-423f-9f2d-0eeff133a2b1",
   "metadata": {},
   "outputs": [
    {
     "data": {
      "text/plain": [
       "'DATA SCIENCE'"
      ]
     },
     "execution_count": 12,
     "metadata": {},
     "output_type": "execute_result"
    }
   ],
   "source": [
    "s.course()"
   ]
  },
  {
   "cell_type": "code",
   "execution_count": 13,
   "id": "bbdc295d-552e-4898-b450-f85616029424",
   "metadata": {},
   "outputs": [],
   "source": [
    "s1=student2()"
   ]
  },
  {
   "cell_type": "code",
   "execution_count": 14,
   "id": "2b93fc62-c97d-40d5-8b6c-6866c5eb2e9a",
   "metadata": {},
   "outputs": [
    {
     "data": {
      "text/plain": [
       "'Aryan'"
      ]
     },
     "execution_count": 14,
     "metadata": {},
     "output_type": "execute_result"
    }
   ],
   "source": [
    "s1.name()"
   ]
  },
  {
   "cell_type": "code",
   "execution_count": 15,
   "id": "4555d816-187e-4363-b2c7-462d9d97ca0d",
   "metadata": {},
   "outputs": [
    {
     "data": {
      "text/plain": [
       "'this is my marks '"
      ]
     },
     "execution_count": 15,
     "metadata": {},
     "output_type": "execute_result"
    }
   ],
   "source": [
    "s1.marks()"
   ]
  },
  {
   "cell_type": "markdown",
   "id": "8fb5fd95-4426-43e6-8741-e1e09437be7a",
   "metadata": {},
   "source": [
    "Q2. Differentiate between Abstraction and Encapsulation. Explain with an example."
   ]
  },
  {
   "cell_type": "code",
   "execution_count": 17,
   "id": "ad7cc8fd-067d-44aa-9be2-7066e9655640",
   "metadata": {},
   "outputs": [
    {
     "data": {
      "text/plain": [
       "'Abstraction is a way of representing some specific data.Out of an ocean of data, we are only maintaining the transparency of some data to the user.This important concept in object-oriented programming will reduce the complexity of the code and increases the readability.\\nFor example, let’s say we were assigned a task to create an online course enrollment portal, and the data fields available to us are {name, age, current occupation, college name, course name, payment method, sibling’s name, marital status, vehicle number}.\\nEncapsulation is binding the data members with member variables.This will avoid the direct access of variables, because direct access of variables may violate privacy, and hiding of the implementation will not be possible.\\nFor example,- A class is an example of encapsulation as it encapsulates all the data that is member functions, variables, etc.\\n'"
      ]
     },
     "execution_count": 17,
     "metadata": {},
     "output_type": "execute_result"
    }
   ],
   "source": [
    "\"\"\"Abstraction is a way of representing some specific data.Out of an ocean of data, we are only maintaining the transparency of some data to the user.This important concept in object-oriented programming will reduce the complexity of the code and increases the readability.\n",
    "For example, let’s say we were assigned a task to create an online course enrollment portal, and the data fields available to us are {name, age, current occupation, college name, course name, payment method, sibling’s name, marital status, vehicle number}.\n",
    "Encapsulation is binding the data members with member variables.This will avoid the direct access of variables, because direct access of variables may violate privacy, and hiding of the implementation will not be possible.\n",
    "For example,- A class is an example of encapsulation as it encapsulates all the data that is member functions, variables, etc.\n",
    "\"\"\""
   ]
  },
  {
   "cell_type": "markdown",
   "id": "dd9fa78c-88e7-436a-9c32-872aeae224fe",
   "metadata": {},
   "source": [
    "Q3. What is abc module in python? Why is it used?"
   ]
  },
  {
   "cell_type": "code",
   "execution_count": 18,
   "id": "5cc01ac6-4442-44c4-bb91-d67153b26183",
   "metadata": {},
   "outputs": [
    {
     "data": {
      "text/plain": [
       "'ABC in Python\\nPython is not a fully object-oriented programming language but it supports the features like abstract classes and abstraction. We cannot create abstract classes directly in Python, so Python provides a module called abc that provides the infrastructure for defining the base of Abstract Base Classes(ABC).\\nSyntax-\\nimport abc\\n class Friend(ABC):\\n \\n    @abstractmethod\\n    def role(self):\\n        pass\\n        \\n        '"
      ]
     },
     "execution_count": 18,
     "metadata": {},
     "output_type": "execute_result"
    }
   ],
   "source": [
    "\"\"\"ABC in Python\n",
    "Python is not a fully object-oriented programming language but it supports the features like abstract classes and abstraction. \n",
    "We cannot create abstract classes directly in Python, so Python provides a module called abc that provides the infrastructure for defining the base of Abstract Base Classes(ABC).\n",
    "Syntax-\n",
    "import abc\n",
    " class Friend(ABC):\n",
    " \n",
    "    @abstractmethod\n",
    "    def role(self):\n",
    "        pass\n",
    "        \n",
    "        \"\"\""
   ]
  },
  {
   "cell_type": "code",
   "execution_count": null,
   "id": "fbc72ad1-3d55-4f7b-b542-321335180780",
   "metadata": {},
   "outputs": [],
   "source": []
  },
  {
   "cell_type": "markdown",
   "id": "76531ffc-06f2-4f5f-8c3d-aa2831dd88dc",
   "metadata": {},
   "source": [
    "Q4. How can we achieve data abstraction?"
   ]
  },
  {
   "cell_type": "code",
   "execution_count": 19,
   "id": "64f8607a-845e-4fcd-8bd9-73681d1fae17",
   "metadata": {},
   "outputs": [
    {
     "data": {
      "text/plain": [
       "'Data Abstraction in Python can be achieved through creating abstract classes and inheriting them later. \\nAbstraction method by import abc ,@abc.abstractmethod. \\n\\nFor Example-\\nfrom abc import ABC, abstractmethod\\nclass MyClass(ABC):\\n @abstractmethod\\n def mymethod(self):\\n  #empty body\\n  pass    '"
      ]
     },
     "execution_count": 19,
     "metadata": {},
     "output_type": "execute_result"
    }
   ],
   "source": [
    "\"\"\"Data Abstraction in Python can be achieved through creating abstract classes and inheriting them later. \n",
    "Abstraction method by import abc ,@abc.abstractmethod. \n",
    "\n",
    "For Example-\n",
    "from abc import ABC, abstractmethod\n",
    "class MyClass(ABC):\n",
    " @abstractmethod\n",
    " def mymethod(self):\n",
    "  #empty body\n",
    "  pass    \"\"\""
   ]
  },
  {
   "cell_type": "markdown",
   "id": "f8495ff3-e266-4437-a487-da1e5c260e53",
   "metadata": {},
   "source": [
    "Q5. Can we create an instance of an abstract class? Explain your answer."
   ]
  },
  {
   "cell_type": "code",
   "execution_count": null,
   "id": "7bf3fd54-7136-4dd8-a245-4cbebe65ade4",
   "metadata": {},
   "outputs": [],
   "source": []
  }
 ],
 "metadata": {
  "kernelspec": {
   "display_name": "Python 3 (ipykernel)",
   "language": "python",
   "name": "python3"
  },
  "language_info": {
   "codemirror_mode": {
    "name": "ipython",
    "version": 3
   },
   "file_extension": ".py",
   "mimetype": "text/x-python",
   "name": "python",
   "nbconvert_exporter": "python",
   "pygments_lexer": "ipython3",
   "version": "3.10.8"
  }
 },
 "nbformat": 4,
 "nbformat_minor": 5
}
